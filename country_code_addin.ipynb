{
 "cells": [
  {
   "cell_type": "code",
   "execution_count": 20,
   "id": "86d37159-439a-4cca-92d4-e3af978f364d",
   "metadata": {},
   "outputs": [],
   "source": [
    "import pandas as pd"
   ]
  },
  {
   "cell_type": "code",
   "execution_count": null,
   "id": "9d809985-92aa-4663-9761-decffd7ffc9b",
   "metadata": {},
   "outputs": [],
   "source": [
    "# # Read the JSON file into a pandas DataFrame\n",
    "# df = pd.read_json('data/combined_json.json')\n",
    "\n",
    "# # Reset the index to convert the row index into a column\n",
    "# df.reset_index(inplace=True)\n",
    "\n",
    "# df"
   ]
  },
  {
   "cell_type": "code",
   "execution_count": null,
   "id": "74a9a0c5-60ec-4f72-aa0d-d0d98e8d3bc8",
   "metadata": {},
   "outputs": [],
   "source": [
    "# Convert the DataFrame to CSV\n",
    "# df.to_csv('working_json.csv', index=False)"
   ]
  },
  {
   "cell_type": "code",
   "execution_count": 23,
   "id": "ac3f6d5c-a904-4df2-8843-3d119936976a",
   "metadata": {},
   "outputs": [],
   "source": [
    "\n",
    "# Read the CSV file into a pandas DataFrame\n",
    "df = pd.read_csv('working_json.csv')\n",
    "\n",
    "# Drop the column index\n",
    "df = df.reset_index(drop=True)\n",
    "\n",
    "# Convert the DataFrame to a dictionary with row headers\n",
    "data_dict = df.to_dict(orient='index')\n",
    "\n",
    "# Convert the dictionary to JSON\n",
    "import json\n",
    "\n",
    "# Write the JSON data to a file\n",
    "with open('js_complete.json', 'w') as json_file:\n",
    "    json.dump(data_dict, json_file)\n"
   ]
  },
  {
   "cell_type": "code",
   "execution_count": null,
   "id": "25c783fe-2275-4be4-acbb-ce87851cf18c",
   "metadata": {},
   "outputs": [],
   "source": []
  }
 ],
 "metadata": {
  "kernelspec": {
   "display_name": "Python 3 (ipykernel)",
   "language": "python",
   "name": "python3"
  },
  "language_info": {
   "codemirror_mode": {
    "name": "ipython",
    "version": 3
   },
   "file_extension": ".py",
   "mimetype": "text/x-python",
   "name": "python",
   "nbconvert_exporter": "python",
   "pygments_lexer": "ipython3",
   "version": "3.9.13"
  }
 },
 "nbformat": 4,
 "nbformat_minor": 5
}
