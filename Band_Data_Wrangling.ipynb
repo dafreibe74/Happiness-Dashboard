{
 "cells": [
  {
   "cell_type": "code",
   "execution_count": null,
   "id": "6817c503-4ddf-4b79-9b18-75d47d53b6df",
   "metadata": {},
   "outputs": [],
   "source": [
    "import pandas as pd"
   ]
  },
  {
   "cell_type": "code",
   "execution_count": null,
   "id": "7dfbffb3-0909-43cf-9d8f-1409f21bf953",
   "metadata": {},
   "outputs": [],
   "source": [
    "# reference the data\n",
    "data = \"metal_bands.csv\"\n",
    "#this .csv was downloaded from kaggle"
   ]
  },
  {
   "cell_type": "code",
   "execution_count": null,
   "id": "78535bd2-4330-48f8-969d-0a6e0aa801f1",
   "metadata": {},
   "outputs": [],
   "source": [
    "# Read our Data file with the pandas library\n",
    "df = pd.read_csv(data)"
   ]
  },
  {
   "cell_type": "code",
   "execution_count": null,
   "id": "06c8127f-e883-4f8b-b0e2-758735d517cb",
   "metadata": {},
   "outputs": [],
   "source": [
    "#view the data\n",
    "df.head()"
   ]
  },
  {
   "cell_type": "code",
   "execution_count": null,
   "id": "eb12da4b-71c8-4e41-bd11-2118af927219",
   "metadata": {},
   "outputs": [],
   "source": [
    "#rename columns\n",
    "df = df.rename(columns = { 'Country/Territory':'Country','Metal bands per 100000 people':'Metal_bands_per_100000_people'})"
   ]
  },
  {
   "cell_type": "code",
   "execution_count": null,
   "id": "06230c06-87d9-4085-b75c-99d8a6688583",
   "metadata": {},
   "outputs": [],
   "source": [
    "#make country the index\n",
    "df = df.set_index(list(df)[0])"
   ]
  },
  {
   "cell_type": "code",
   "execution_count": null,
   "id": "8c02fdb2-f9f1-4469-aacb-396b3a8e5fb5",
   "metadata": {},
   "outputs": [],
   "source": [
    "#save clean .csv\n",
    "df.to_csv('metal_bands_clean.csv')"
   ]
  },
  {
   "cell_type": "code",
   "execution_count": null,
   "id": "49322399-9d2c-4072-b280-a2c31e219ad3",
   "metadata": {},
   "outputs": [],
   "source": [
    "df.head()"
   ]
  },
  {
   "cell_type": "code",
   "execution_count": null,
   "id": "a6c06c9d-481d-4736-836c-39b4d9393241",
   "metadata": {},
   "outputs": [],
   "source": [
    "df.index.unique().tolist()"
   ]
  },
  {
   "cell_type": "code",
   "execution_count": null,
   "id": "bb7c0ab7-3420-4888-a68b-2a30eceb196d",
   "metadata": {},
   "outputs": [],
   "source": []
  }
 ],
 "metadata": {
  "kernelspec": {
   "display_name": "Python 3 (ipykernel)",
   "language": "python",
   "name": "python3"
  },
  "language_info": {
   "codemirror_mode": {
    "name": "ipython",
    "version": 3
   },
   "file_extension": ".py",
   "mimetype": "text/x-python",
   "name": "python",
   "nbconvert_exporter": "python",
   "pygments_lexer": "ipython3",
   "version": "3.9.13"
  }
 },
 "nbformat": 4,
 "nbformat_minor": 5
}
