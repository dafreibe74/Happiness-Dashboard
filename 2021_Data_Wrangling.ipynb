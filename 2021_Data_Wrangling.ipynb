{
 "cells": [
  {
   "cell_type": "code",
   "execution_count": null,
   "id": "d0c9b298-a0b9-4bbe-9f06-9fd427066637",
   "metadata": {},
   "outputs": [],
   "source": [
    "import pandas as pd"
   ]
  },
  {
   "cell_type": "code",
   "execution_count": null,
   "id": "545a73e8-2a2b-4e2f-b5b4-d43009128e47",
   "metadata": {},
   "outputs": [],
   "source": [
    "# reference the data\n",
    "data = \"happiness_score_country_cleaned.csv\"\n",
    "#this .csv was downloaded from kaggle"
   ]
  },
  {
   "cell_type": "code",
   "execution_count": null,
   "id": "b91c80a4-98b5-47fc-846c-8071e78959bb",
   "metadata": {},
   "outputs": [],
   "source": [
    "# Read our Data file with the pandas library\n",
    "df = pd.read_csv(data)"
   ]
  },
  {
   "cell_type": "code",
   "execution_count": null,
   "id": "547ae84a-53f1-4733-b566-2a76a1726216",
   "metadata": {},
   "outputs": [],
   "source": [
    "#view the data\n",
    "df.head()"
   ]
  },
  {
   "cell_type": "code",
   "execution_count": null,
   "id": "8dbb7d72-b1ec-413b-ba42-78bf547775c0",
   "metadata": {},
   "outputs": [],
   "source": [
    "#drop irrelevant columns\n",
    "df = df.drop(columns = ['Regional indicator', 'Standard error of ladder score','upperwhisker','lowerwhisker'])"
   ]
  },
  {
   "cell_type": "code",
   "execution_count": null,
   "id": "0ac033c8-d1c3-4923-b34b-5029ea9ba30a",
   "metadata": {},
   "outputs": [],
   "source": [
    "#rename columns for database\n",
    "df = df.rename(columns ={ 'Country name':'Country','Ladder score':'Happiness','Logged GDP per capita':'GDP_per_capita','Social support':'Social_support',\n",
    "                    'Healthy life expectancy':'Life_expectancy','Freedom to make life choices':'Freedom','Perceptions of corruption':'Corruption'\n",
    "                    ,'Ladder score in Dystopia':'Dystopia','Explained by: Log GDP per capita':'Contribution_GDP_per_capita',\n",
    "                   'Explained by: Social support':'Contribution_Social_support','Explained by: Healthy life expectancy':'Contribution_Life_expectancy',\n",
    "                   'Explained by: Generosity':'Contribution_Generosity','Explained by: Perceptions of corruption':'Contribution_Corruption',\n",
    "                   'Dystopia + residual':'Contribution_Dystopia','Explained by: Freedom to make life choices':'Contribution_Freedom'})"
   ]
  },
  {
   "cell_type": "code",
   "execution_count": null,
   "id": "a3afa6fd-c206-40f0-84ef-18aa3efc8002",
   "metadata": {},
   "outputs": [],
   "source": [
    "#make country the index\n",
    "df = df.set_index(list(df)[0])"
   ]
  },
  {
   "cell_type": "code",
   "execution_count": null,
   "id": "bdb993e5-3eca-45ef-8cc8-850ce73ed838",
   "metadata": {},
   "outputs": [],
   "source": [
    "#save clean .csv\n",
    "df.to_csv('2021_Clean.csv')"
   ]
  },
  {
   "cell_type": "code",
   "execution_count": null,
   "id": "95c1315b-988f-432c-8165-6c5116febbb5",
   "metadata": {},
   "outputs": [],
   "source": []
  },
  {
   "cell_type": "code",
   "execution_count": null,
   "id": "0902df0d-11b4-42c9-8935-bd14b0391864",
   "metadata": {},
   "outputs": [],
   "source": []
  },
  {
   "cell_type": "code",
   "execution_count": null,
   "id": "0e18b500-3e51-4558-87e2-9be32c035b02",
   "metadata": {},
   "outputs": [],
   "source": []
  }
 ],
 "metadata": {
  "kernelspec": {
   "display_name": "Python 3 (ipykernel)",
   "language": "python",
   "name": "python3"
  },
  "language_info": {
   "codemirror_mode": {
    "name": "ipython",
    "version": 3
   },
   "file_extension": ".py",
   "mimetype": "text/x-python",
   "name": "python",
   "nbconvert_exporter": "python",
   "pygments_lexer": "ipython3",
   "version": "3.9.13"
  }
 },
 "nbformat": 4,
 "nbformat_minor": 5
}
