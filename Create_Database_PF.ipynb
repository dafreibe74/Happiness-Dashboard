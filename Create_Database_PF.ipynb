{
 "cells": [
  {
   "cell_type": "code",
   "execution_count": null,
   "id": "07d1a4f8-0412-4813-a14f-80b07aa07336",
   "metadata": {},
   "outputs": [],
   "source": [
    "#import dependencies\n",
    "import sqlite3\n",
    "from sqlite3 import Error\n",
    "from pathlib import Path\n",
    "from sqlalchemy import create_engine, inspect\n",
    "import pandas as pd\n",
    "from json import loads, dumps\n",
    "from flask import jsonify"
   ]
  },
  {
   "cell_type": "code",
   "execution_count": null,
   "id": "351527ed-7197-4061-adf8-fb1fa834caa9",
   "metadata": {},
   "outputs": [],
   "source": [
    "# creaate the database\n",
    "Path('happiness.sqlite').touch()\n",
    "#defining the database\n",
    "conn = sqlite3.connect('happiness.sqlite')\n",
    "#connect to database\n",
    "c = conn.cursor()"
   ]
  },
  {
   "cell_type": "code",
   "execution_count": null,
   "id": "7157c775-97fe-46e0-b569-cf73c475c698",
   "metadata": {},
   "outputs": [],
   "source": [
    "# Create a reference to the file. \n",
    "database_path = Path(\"Happiness.sqlite\")"
   ]
  },
  {
   "cell_type": "code",
   "execution_count": null,
   "id": "cc25ac85-fef7-4dd2-b1d3-a96baafff0f2",
   "metadata": {},
   "outputs": [],
   "source": [
    "# Create an engine that can talk to the database\n",
    "engine = create_engine(f\"sqlite:///{database_path}\")"
   ]
  },
  {
   "cell_type": "code",
   "execution_count": null,
   "id": "b93d45b6-25f9-43c1-ba39-7ece9a10ac61",
   "metadata": {},
   "outputs": [],
   "source": [
    "# add 2021 happiness table\n",
    "c.execute('''CREATE TABLE Happiness_2021(Country text Primary Key, Happiness real, GDP_per_capita real,Social_support real,Life_expectancy real,Freedom real,Generosity real,Corruption real,Dystopia real,Contribution_GDP_per_capita real,Contribution_Social_support real,Contribution_Life_expectancy real,Contribution_Freedom real,Contribution_Generosity real,Contribution_Corruption real,Contribution_Dystopia real);''')"
   ]
  },
  {
   "cell_type": "code",
   "execution_count": null,
   "id": "18410460-2ca5-42f1-a951-e1a6c795efa2",
   "metadata": {},
   "outputs": [],
   "source": [
    "#add metal table and make it reference the table\n",
    "c.execute('''CREATE TABLE Bands_2021(Country text Primary Key, Metal_bands_per_100000_people, Bands, Population, Foreign Key (Country) References Happiness_2021(Country));''')"
   ]
  },
  {
   "cell_type": "code",
   "execution_count": null,
   "id": "ec3324d2-b41f-4a1e-82ae-6d73f047428b",
   "metadata": {},
   "outputs": [],
   "source": [
    "c.execute('''CREATE TABLE Country_Codes(Country text Primary Key, iso_a2 text, iso_a3 text, Foreign Key (Country) References Happiness_2021(Country));''')"
   ]
  },
  {
   "cell_type": "code",
   "execution_count": null,
   "id": "4848676a-d3d6-4efe-b594-ab63a55491b7",
   "metadata": {},
   "outputs": [],
   "source": [
    "# # drop table if necessary for reformatting\n",
    "# c.execute('''Drop TABLE Bands_2021;''')"
   ]
  },
  {
   "cell_type": "code",
   "execution_count": null,
   "id": "dfe60376-e8af-4c5f-b73c-7946602d0501",
   "metadata": {},
   "outputs": [],
   "source": [
    "#check column names for Happiness Table\n",
    "\n",
    "# Create the inspector and connect it to the engine\n",
    "inspector = inspect(engine)\n",
    "# Collect the names of tables within the database\n",
    "inspector.get_table_names()\n",
    "# Using the inspector to print the column names within the table and its types\n",
    "columns = inspector.get_columns('Happiness_2021')\n",
    "columns"
   ]
  },
  {
   "cell_type": "code",
   "execution_count": null,
   "id": "e591bc98-d7be-459d-90a2-4f1f04028974",
   "metadata": {},
   "outputs": [],
   "source": [
    "#check column names for Band Table\n",
    "\n",
    "# Create the inspector and connect it to the engine\n",
    "inspector = inspect(engine)\n",
    "# Collect the names of tables within the database\n",
    "inspector.get_table_names()\n",
    "# Using the inspector to print the column names within the table and its types\n",
    "columns = inspector.get_columns('Bands_2021')\n",
    "columns"
   ]
  },
  {
   "cell_type": "code",
   "execution_count": null,
   "id": "4e59cc86-e392-4516-89f8-13a88c39cd9d",
   "metadata": {},
   "outputs": [],
   "source": [
    "#check column names for Country Codes Table\n",
    "\n",
    "# Create the inspector and connect it to the engine\n",
    "inspector = inspect(engine)\n",
    "# Collect the names of tables within the database\n",
    "inspector.get_table_names()\n",
    "# Using the inspector to print the column names within the table and its types\n",
    "columns = inspector.get_columns('Country_Codes')\n",
    "columns"
   ]
  },
  {
   "cell_type": "code",
   "execution_count": null,
   "id": "67a704b7-89a4-4bdd-8a33-0142043de405",
   "metadata": {},
   "outputs": [],
   "source": [
    "# load the happiness data into the database\n",
    "happiness_data = pd.read_csv('data/happiness_data_clean.csv')\n",
    "# write the happiness data to a sqlite table\n",
    "happiness_data.to_sql('Happiness_2021', conn, if_exists='append', index = False)"
   ]
  },
  {
   "cell_type": "code",
   "execution_count": null,
   "id": "d0aa4107-afd0-439a-a519-898de1f33f05",
   "metadata": {},
   "outputs": [],
   "source": [
    "# load the band data into the database\n",
    "happiness_data = pd.read_csv('data/metal_bands_clean.csv')\n",
    "# write the happiness data to a sqlite table\n",
    "happiness_data.to_sql('Bands_2021', conn, if_exists='append', index = False)"
   ]
  },
  {
   "cell_type": "code",
   "execution_count": null,
   "id": "e2c42bfc-1bb8-41d4-b5c6-987eaaa04ae7",
   "metadata": {},
   "outputs": [],
   "source": [
    "# load the country code data into the database\n",
    "happiness_data = pd.read_csv('data/country_code_clean.csv')\n",
    "# write the happiness data to a sqlite table\n",
    "happiness_data.to_sql('Country_Codes', conn, if_exists='append', index = False)"
   ]
  },
  {
   "cell_type": "code",
   "execution_count": null,
   "id": "1bd7b1c6-a451-42b8-9032-8e30971f5f62",
   "metadata": {},
   "outputs": [],
   "source": []
  }
 ],
 "metadata": {
  "kernelspec": {
   "display_name": "Python 3 (ipykernel)",
   "language": "python",
   "name": "python3"
  },
  "language_info": {
   "codemirror_mode": {
    "name": "ipython",
    "version": 3
   },
   "file_extension": ".py",
   "mimetype": "text/x-python",
   "name": "python",
   "nbconvert_exporter": "python",
   "pygments_lexer": "ipython3",
   "version": "3.9.13"
  }
 },
 "nbformat": 4,
 "nbformat_minor": 5
}
