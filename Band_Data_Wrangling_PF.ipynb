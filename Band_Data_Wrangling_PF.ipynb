{
 "cells": [
  {
   "cell_type": "code",
   "execution_count": 16,
   "id": "6817c503-4ddf-4b79-9b18-75d47d53b6df",
   "metadata": {},
   "outputs": [],
   "source": [
    "import pandas as pd"
   ]
  },
  {
   "cell_type": "code",
   "execution_count": 17,
   "id": "7dfbffb3-0909-43cf-9d8f-1409f21bf953",
   "metadata": {},
   "outputs": [],
   "source": [
    "# reference the data\n",
    "data = \"data/metal_band_country_cleaned.csv\"\n",
    "#this .csv was downloaded from kaggle"
   ]
  },
  {
   "cell_type": "code",
   "execution_count": 18,
   "id": "78535bd2-4330-48f8-969d-0a6e0aa801f1",
   "metadata": {},
   "outputs": [],
   "source": [
    "# Read our Data file with the pandas library\n",
    "df = pd.read_csv(data)"
   ]
  },
  {
   "cell_type": "code",
   "execution_count": 19,
   "id": "06c8127f-e883-4f8b-b0e2-758735d517cb",
   "metadata": {},
   "outputs": [
    {
     "data": {
      "text/html": [
       "<div>\n",
       "<style scoped>\n",
       "    .dataframe tbody tr th:only-of-type {\n",
       "        vertical-align: middle;\n",
       "    }\n",
       "\n",
       "    .dataframe tbody tr th {\n",
       "        vertical-align: top;\n",
       "    }\n",
       "\n",
       "    .dataframe thead th {\n",
       "        text-align: right;\n",
       "    }\n",
       "</style>\n",
       "<table border=\"1\" class=\"dataframe\">\n",
       "  <thead>\n",
       "    <tr style=\"text-align: right;\">\n",
       "      <th></th>\n",
       "      <th>Country/Territory</th>\n",
       "      <th>Metal bands per 100000 people</th>\n",
       "      <th>Bands</th>\n",
       "      <th>Population</th>\n",
       "    </tr>\n",
       "  </thead>\n",
       "  <tbody>\n",
       "    <tr>\n",
       "      <th>0</th>\n",
       "      <td>Afghanistan</td>\n",
       "      <td>0.005</td>\n",
       "      <td>2</td>\n",
       "      <td>37,466,414</td>\n",
       "    </tr>\n",
       "    <tr>\n",
       "      <th>1</th>\n",
       "      <td>Albania</td>\n",
       "      <td>0.227</td>\n",
       "      <td>7</td>\n",
       "      <td>3,088,385</td>\n",
       "    </tr>\n",
       "    <tr>\n",
       "      <th>2</th>\n",
       "      <td>Algeria</td>\n",
       "      <td>0.037</td>\n",
       "      <td>16</td>\n",
       "      <td>43,576,691</td>\n",
       "    </tr>\n",
       "    <tr>\n",
       "      <th>3</th>\n",
       "      <td>Argentina</td>\n",
       "      <td>4.158</td>\n",
       "      <td>1,907</td>\n",
       "      <td>45,864,941</td>\n",
       "    </tr>\n",
       "    <tr>\n",
       "      <th>4</th>\n",
       "      <td>Armenia</td>\n",
       "      <td>0.631</td>\n",
       "      <td>19</td>\n",
       "      <td>3,011,609</td>\n",
       "    </tr>\n",
       "  </tbody>\n",
       "</table>\n",
       "</div>"
      ],
      "text/plain": [
       "  Country/Territory  Metal bands per 100000 people  Bands  Population\n",
       "0       Afghanistan                          0.005      2  37,466,414\n",
       "1           Albania                          0.227      7   3,088,385\n",
       "2           Algeria                          0.037     16  43,576,691\n",
       "3         Argentina                          4.158  1,907  45,864,941\n",
       "4           Armenia                          0.631     19   3,011,609"
      ]
     },
     "execution_count": 19,
     "metadata": {},
     "output_type": "execute_result"
    }
   ],
   "source": [
    "#view the data\n",
    "df.head()"
   ]
  },
  {
   "cell_type": "code",
   "execution_count": 20,
   "id": "eb12da4b-71c8-4e41-bd11-2118af927219",
   "metadata": {},
   "outputs": [],
   "source": [
    "#rename columns\n",
    "df = df.rename(columns = { 'Country/Territory':'Country','Metal bands per 100000 people':'Metal_bands_per_100000_people'})"
   ]
  },
  {
   "cell_type": "code",
   "execution_count": 21,
   "id": "06230c06-87d9-4085-b75c-99d8a6688583",
   "metadata": {},
   "outputs": [],
   "source": [
    "#make country the index\n",
    "df = df.set_index(list(df)[0])"
   ]
  },
  {
   "cell_type": "code",
   "execution_count": 22,
   "id": "8c02fdb2-f9f1-4469-aacb-396b3a8e5fb5",
   "metadata": {},
   "outputs": [],
   "source": [
    "#save clean .csv\n",
    "df.to_csv('data/metal_bands_clean.csv')"
   ]
  },
  {
   "cell_type": "code",
   "execution_count": 23,
   "id": "49322399-9d2c-4072-b280-a2c31e219ad3",
   "metadata": {},
   "outputs": [
    {
     "data": {
      "text/html": [
       "<div>\n",
       "<style scoped>\n",
       "    .dataframe tbody tr th:only-of-type {\n",
       "        vertical-align: middle;\n",
       "    }\n",
       "\n",
       "    .dataframe tbody tr th {\n",
       "        vertical-align: top;\n",
       "    }\n",
       "\n",
       "    .dataframe thead th {\n",
       "        text-align: right;\n",
       "    }\n",
       "</style>\n",
       "<table border=\"1\" class=\"dataframe\">\n",
       "  <thead>\n",
       "    <tr style=\"text-align: right;\">\n",
       "      <th></th>\n",
       "      <th>Metal_bands_per_100000_people</th>\n",
       "      <th>Bands</th>\n",
       "      <th>Population</th>\n",
       "    </tr>\n",
       "    <tr>\n",
       "      <th>Country</th>\n",
       "      <th></th>\n",
       "      <th></th>\n",
       "      <th></th>\n",
       "    </tr>\n",
       "  </thead>\n",
       "  <tbody>\n",
       "    <tr>\n",
       "      <th>Afghanistan</th>\n",
       "      <td>0.005</td>\n",
       "      <td>2</td>\n",
       "      <td>37,466,414</td>\n",
       "    </tr>\n",
       "    <tr>\n",
       "      <th>Albania</th>\n",
       "      <td>0.227</td>\n",
       "      <td>7</td>\n",
       "      <td>3,088,385</td>\n",
       "    </tr>\n",
       "    <tr>\n",
       "      <th>Algeria</th>\n",
       "      <td>0.037</td>\n",
       "      <td>16</td>\n",
       "      <td>43,576,691</td>\n",
       "    </tr>\n",
       "    <tr>\n",
       "      <th>Argentina</th>\n",
       "      <td>4.158</td>\n",
       "      <td>1,907</td>\n",
       "      <td>45,864,941</td>\n",
       "    </tr>\n",
       "    <tr>\n",
       "      <th>Armenia</th>\n",
       "      <td>0.631</td>\n",
       "      <td>19</td>\n",
       "      <td>3,011,609</td>\n",
       "    </tr>\n",
       "  </tbody>\n",
       "</table>\n",
       "</div>"
      ],
      "text/plain": [
       "             Metal_bands_per_100000_people  Bands  Population\n",
       "Country                                                      \n",
       "Afghanistan                          0.005      2  37,466,414\n",
       "Albania                              0.227      7   3,088,385\n",
       "Algeria                              0.037     16  43,576,691\n",
       "Argentina                            4.158  1,907  45,864,941\n",
       "Armenia                              0.631     19   3,011,609"
      ]
     },
     "execution_count": 23,
     "metadata": {},
     "output_type": "execute_result"
    }
   ],
   "source": [
    "#view the data\n",
    "df.head()"
   ]
  },
  {
   "cell_type": "code",
   "execution_count": null,
   "id": "bb7c0ab7-3420-4888-a68b-2a30eceb196d",
   "metadata": {},
   "outputs": [],
   "source": []
  }
 ],
 "metadata": {
  "kernelspec": {
   "display_name": "Python 3 (ipykernel)",
   "language": "python",
   "name": "python3"
  },
  "language_info": {
   "codemirror_mode": {
    "name": "ipython",
    "version": 3
   },
   "file_extension": ".py",
   "mimetype": "text/x-python",
   "name": "python",
   "nbconvert_exporter": "python",
   "pygments_lexer": "ipython3",
   "version": "3.9.13"
  }
 },
 "nbformat": 4,
 "nbformat_minor": 5
}
