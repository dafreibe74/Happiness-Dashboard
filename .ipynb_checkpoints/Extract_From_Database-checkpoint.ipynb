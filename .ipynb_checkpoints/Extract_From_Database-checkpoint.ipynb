{
 "cells": [
  {
   "cell_type": "code",
   "execution_count": null,
   "id": "5dac1d99-8692-4ab6-8be8-597963d27f53",
   "metadata": {},
   "outputs": [],
   "source": [
    "#import dependencies\n",
    "import sqlite3\n",
    "from sqlite3 import Error\n",
    "from pathlib import Path\n",
    "from sqlalchemy import create_engine, inspect\n",
    "import pandas as pd\n",
    "from json import loads, dumps\n",
    "from flask import jsonify"
   ]
  },
  {
   "cell_type": "code",
   "execution_count": null,
   "id": "7232211e-a746-4784-8da7-bac9f15c3b29",
   "metadata": {},
   "outputs": [],
   "source": [
    "#defining the database\n",
    "conn = sqlite3.connect('happiness.sqlite')\n",
    "#connect to database\n",
    "c = conn.cursor()"
   ]
  },
  {
   "cell_type": "code",
   "execution_count": null,
   "id": "a54d246e-7800-4dbe-ac0a-8b8c36c3ad29",
   "metadata": {},
   "outputs": [],
   "source": [
    "#view the Happiness data\n",
    "pd.read_sql('''SELECT * FROM Happiness_2021''',conn)"
   ]
  },
  {
   "cell_type": "code",
   "execution_count": null,
   "id": "4253ead0-2660-41c3-9982-5d81261c55dd",
   "metadata": {},
   "outputs": [],
   "source": [
    "#view the Band data\n",
    "pd.read_sql('''SELECT * FROM Bands_2021''',conn)"
   ]
  },
  {
   "cell_type": "code",
   "execution_count": null,
   "id": "2eda8b23-4edd-4703-9431-b5b39f0f2683",
   "metadata": {},
   "outputs": [],
   "source": [
    "#view the Country_Code data\n",
    "pd.read_sql('''SELECT * FROM Country_Codes''',conn)"
   ]
  },
  {
   "cell_type": "code",
   "execution_count": null,
   "id": "6404974e-05aa-49a5-8b3f-f1fcee714eb5",
   "metadata": {},
   "outputs": [],
   "source": [
    "#design a query to pull data from the database\n",
    "combined_df = pd.read_sql('''SELECT b.Country , b.Metal_bands_per_100000_people , b.Bands , b.Population , h.Happiness , \n",
    "h.GDP_per_capita , h.Social_support , h.Life_expectancy, h.Freedom , h.Generosity , h.Corruption , h.Dystopia , \n",
    "h.Contribution_GDP_per_capita , h.Contribution_Social_support , h.Contribution_Life_expectancy , h.Contribution_Freedom, \n",
    "h.Contribution_Generosity , h.Contribution_Corruption , h.Contribution_Dystopia\n",
    "FROM Bands_2021 b INNER JOIN Happiness_2021 h ON b.Country = h.Country''', conn)\n",
    "#make country the index\n",
    "#combined_df = combined_df.set_index(list(combined_df)[0])\n",
    "combined_df.head()"
   ]
  },
  {
   "cell_type": "code",
   "execution_count": null,
   "id": "8a838add-840c-402c-802c-ae3a62fa860b",
   "metadata": {},
   "outputs": [],
   "source": [
    "#save the json\n",
    "combined_df.to_json('combined_json.json',orient = 'index')"
   ]
  },
  {
   "cell_type": "code",
   "execution_count": null,
   "id": "db83eb68-1b36-403f-94e4-a3721d631048",
   "metadata": {},
   "outputs": [],
   "source": []
  }
 ],
 "metadata": {
  "kernelspec": {
   "display_name": "Python 3 (ipykernel)",
   "language": "python",
   "name": "python3"
  },
  "language_info": {
   "codemirror_mode": {
    "name": "ipython",
    "version": 3
   },
   "file_extension": ".py",
   "mimetype": "text/x-python",
   "name": "python",
   "nbconvert_exporter": "python",
   "pygments_lexer": "ipython3",
   "version": "3.9.13"
  }
 },
 "nbformat": 4,
 "nbformat_minor": 5
}
